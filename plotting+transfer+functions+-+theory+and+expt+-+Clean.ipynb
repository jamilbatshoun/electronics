{
 "cells": [
  {
   "cell_type": "markdown",
   "metadata": {},
   "source": [
    "# Transfer functions for simple circuits\n",
    "\n",
    "summary: The transfer function is a convenient way to quickly assess the type of filtering that will happen if you apply an AC voltage through some elements with complex impedance. Measuring the voltage drop across one of the elements, you will notice that some frequency components pass without any problem, whereas other frequency components do not pass through. Performing analysis using Kirchoff's laws or considering the impedances in a voltage-divider style will yield an equation that allows you to address the question: With what efficiency will each frequency component pass through my filter?\n",
    "\n",
    "In this notebook, we plot transfer functions by either approach. \n",
    "\n",
    "Need to do: make some measurements of transfer functions and compare with calculation!"
   ]
  },
  {
   "cell_type": "code",
   "execution_count": 1,
   "metadata": {
    "collapsed": false
   },
   "outputs": [],
   "source": [
    "%matplotlib inline\n",
    "import matplotlib.pyplot as plt\n",
    "import numpy as np\n",
    "import cmath"
   ]
  },
  {
   "cell_type": "code",
   "execution_count": 2,
   "metadata": {
    "collapsed": false
   },
   "outputs": [],
   "source": [
    "# define resistor and capacitor values:\n",
    "\n",
    "# high-pass filter: (R1,C1)\n",
    "R1 = 1560 # units: Ohms\n",
    "C1 = 0.102*10**(-6) # units: Farads\n",
    "\n",
    "# low-pass filter: (R2,C2)\n",
    "R2 = 538 # units: Ohms   \n",
    "C2 = 0.1104*10**(-6) # units: Farads "
   ]
  },
  {
   "cell_type": "markdown",
   "metadata": {},
   "source": [
    "Define our frequency axis. We will plot our transfer functions in frequency space."
   ]
  },
  {
   "cell_type": "code",
   "execution_count": 3,
   "metadata": {
    "collapsed": true
   },
   "outputs": [],
   "source": [
    "freq = np.linspace(1, 100000, 400000)\n",
    "omega = 2*np.pi*freq"
   ]
  },
  {
   "cell_type": "markdown",
   "metadata": {},
   "source": [
    "### Define high-pass filter (HPF) and low-pass filter (LPF) transfer functions\n",
    "\n",
    "We use eqns. 2.46 and 2.49 from pp. 40-41 in Eggleston. H is a typical variable used to mean transfer function, or Vout/Vin ...\n",
    "\n",
    "There are two ways to approach plotting the transfer function, both yield identical results...\n",
    "\n",
    "Way #1:\n",
    "defined the way it is in the book, deriving from the differential equation from Kirchhoff's law:\n",
    "$$H_{\\rm High\\:pass\\:filter} = \\frac{V_{\\rm out}|}{|V_{\\rm in}|} = \\frac{\\omega R C}{\\sqrt{1+(\\omega R C)^2}}$$\n",
    "$$H_{\\rm Low\\:pass\\:filter} = \\frac{|V_{\\rm out}|}{|V_{\\rm in}|} = \\frac{1}{\\sqrt{1+(\\omega R C)^2}}$$"
   ]
  },
  {
   "cell_type": "code",
   "execution_count": 4,
   "metadata": {
    "collapsed": false
   },
   "outputs": [],
   "source": [
    "H_HPFcomplex = 1j*omega*R1*C1/(1+1j*omega*R1*C1)\n",
    "H_LPFcomplex = 1/(1+1j*omega*R2*C2)"
   ]
  },
  {
   "cell_type": "markdown",
   "metadata": {},
   "source": [
    "Way #2:\n",
    "The other way by making use of complex impedances -- \n",
    "$$Z_R=R$$\n",
    "$$Z_C=\\frac{1}{i\\omega C}$$\n",
    "$$Z_L=i \\omega L$$\n",
    "\n",
    "We can proceed to treat each element as an \"impedance\" element, using the voltage divider idea, where complex impedance for capacitors is included:"
   ]
  },
  {
   "cell_type": "code",
   "execution_count": 5,
   "metadata": {
    "collapsed": true
   },
   "outputs": [],
   "source": [
    "ZR1 = R1\n",
    "ZR2 = R2\n",
    "\n",
    "ZC1 = 1/(1j*omega*C1)\n",
    "ZC2 = 1/(1j*omega*C2)\n",
    "\n",
    "H_HPFcomplex = ZR1/(ZR1+ZC1)\n",
    "H_LPFcomplex = ZC2/(ZR2+ZC2)\n",
    "\n",
    "# this is the transfer function I calculated for the Vin-->LPF--> HPF--> Vout\n",
    "# Htot = (R1*ZC2/(ZC1+R1))*((ZC2+ZC1+R1)*R2/(ZC1+R1) + ZC2)**(-1)"
   ]
  },
  {
   "cell_type": "code",
   "execution_count": 6,
   "metadata": {
    "collapsed": false
   },
   "outputs": [
    {
     "name": "stdout",
     "output_type": "stream",
     "text": [
      "high pass freq = 1.000220e+03\n",
      "low pass freq = 2.679593e+03\n",
      "high pass freq should be lower than low pass freq for a BPF\n"
     ]
    }
   ],
   "source": [
    "f0_HPF = 1/(2*np.pi*R1*C1)\n",
    "f0_LPF = 1/(2*np.pi*R2*C2)\n",
    "print('high pass freq = %3e'%(f0_HPF))\n",
    "print('low pass freq = %3e'%(f0_LPF))\n",
    "print('high pass freq should be lower than low pass freq for a BPF')"
   ]
  },
  {
   "cell_type": "markdown",
   "metadata": {},
   "source": [
    "Next let's evaluate the HPF transfer function for a range of frequency values so that we can visualize in a plot:"
   ]
  },
  {
   "cell_type": "code",
   "execution_count": 7,
   "metadata": {
    "collapsed": false
   },
   "outputs": [
    {
     "name": "stdout",
     "output_type": "stream",
     "text": [
      "real part = 3.0\n",
      "imag part = 4.0\n",
      "magnitude = 5.0\n"
     ]
    }
   ],
   "source": [
    "# testing: how to take the real, imag part, and absolute value of a complex number:\n",
    "complexnum = 3+4j\n",
    "print('real part = %s'%(np.real(complexnum)))\n",
    "print('imag part = %s'%(np.imag(complexnum)))\n",
    "print('magnitude = %s'%(np.abs(complexnum)))"
   ]
  },
  {
   "cell_type": "code",
   "execution_count": 8,
   "metadata": {
    "collapsed": false
   },
   "outputs": [],
   "source": [
    "# H_HPF_def = omega*R1*C1/np.sqrt(1+(omega*R1*C1)**2)"
   ]
  },
  {
   "cell_type": "code",
   "execution_count": 9,
   "metadata": {
    "collapsed": false
   },
   "outputs": [
    {
     "data": {
      "text/plain": [
       "<matplotlib.legend.Legend at 0x7f03c07d3c18>"
      ]
     },
     "execution_count": 9,
     "metadata": {},
     "output_type": "execute_result"
    },
    {
     "data": {
      "image/png": "[encoded data removed]",
      "text/plain": [
       "<matplotlib.figure.Figure at 0x7f03c0a5c518>"
      ]
     },
     "metadata": {},
     "output_type": "display_data"
    }
   ],
   "source": [
    "H_HPF = np.abs(H_HPFcomplex)\n",
    "\n",
    "# plt.plot(freq,np.abs(H_HPF))   # regular plot -- both axes linear\n",
    "plt.semilogx(freq,H_HPF,label='HPF calculation')  # semilog plot -- make the x-axis logarithmic\n",
    "plt.xlabel('frequency (Hz)',fontsize=15)\n",
    "plt.ylabel('$|V_{out}/V_{in}|$',fontsize=15)\n",
    "plt.grid()\n",
    "plt.title('Transfer function for a high-pass filter\\nR1=%s, C1=%3.5s uF, f0_HPF=%3.7s Hz'%(R1, C1*10**6,f0_HPF),fontsize=12)\n",
    "plt.tight_layout() \n",
    "plt.legend(frameon=False,loc='best') \n",
    "# plt.savefig(\"HPF_Hfxn.png\",dpi=400)"
   ]
  },
  {
   "cell_type": "markdown",
   "metadata": {},
   "source": [
    "Next plot the transfer function for a low-pass filter"
   ]
  },
  {
   "cell_type": "code",
   "execution_count": 10,
   "metadata": {
    "collapsed": false
   },
   "outputs": [
    {
     "data": {
      "text/plain": [
       "<matplotlib.legend.Legend at 0x7f03bdbcba20>"
      ]
     },
     "execution_count": 10,
     "metadata": {},
     "output_type": "execute_result"
    },
    {
     "data": {
      "image/png": "[encoded data removed]",
      "text/plain": [
       "<matplotlib.figure.Figure at 0x7f03c06ee7f0>"
      ]
     },
     "metadata": {},
     "output_type": "display_data"
    }
   ],
   "source": [
    "H_LPF = np.abs(H_LPFcomplex)\n",
    "\n",
    "# plt.plot(freq,np.abs(H_HPF))   # regular plot -- both axes linear\n",
    "plt.semilogx(freq,H_LPF,label='LPF calculation')  # semilog plot -- make the x-axis logarithmic\n",
    "plt.xlabel('frequency (Hz)',fontsize=15)\n",
    "plt.ylabel('$|V_{out}/V_{in}|$',fontsize=15)\n",
    "plt.grid()\n",
    "plt.title('Transfer function for a low-pass filter\\nR2=%s, C2=%3.5s uF, f0_LPF=%3.7s Hz'%(R2, C2*10**6,f0_LPF),fontsize=12)\n",
    "plt.tight_layout() \n",
    "plt.legend(frameon=False,loc='best') \n",
    "# plt.savefig(\"LPF_Hfxn.png\",dpi=400)"
   ]
  },
  {
   "cell_type": "markdown",
   "metadata": {},
   "source": [
    "Next we can import actual data and compare with experiment.\n",
    "\n",
    "High-pass filter:"
   ]
  },
  {
   "cell_type": "code",
   "execution_count": 11,
   "metadata": {
    "collapsed": true
   },
   "outputs": [],
   "source": [
    "# user-modified area:\n",
    "filename_HPF= 'bodeplotdata_chang6_good_expt.txt'"
   ]
  },
  {
   "cell_type": "code",
   "execution_count": 12,
   "metadata": {
    "collapsed": false
   },
   "outputs": [],
   "source": [
    "# import data\n",
    "data_expt_HPF = np.genfromtxt(filename_HPF,skip_header=3)\n",
    "frequency_expt_HPF = data_expt_HPF[:,0]\n",
    "amplitude_dB_expt_HPF = data_expt_HPF[:,1]\n",
    "amplitude_expt_HPF = 10**(amplitude_dB_expt_HPF/20)\n",
    "phase_deg_expt_HPF = data_expt_HPF[:,2]"
   ]
  },
  {
   "cell_type": "code",
   "execution_count": 13,
   "metadata": {
    "collapsed": false
   },
   "outputs": [
    {
     "data": {
      "text/plain": [
       "<matplotlib.legend.Legend at 0x7f03bd994860>"
      ]
     },
     "execution_count": 13,
     "metadata": {},
     "output_type": "execute_result"
    },
    {
     "data": {
      "image/png": "[encoded data removed]",
      "text/plain": [
       "<matplotlib.figure.Figure at 0x7f03bda1ba20>"
      ]
     },
     "metadata": {},
     "output_type": "display_data"
    }
   ],
   "source": [
    "plt.semilogx(freq,H_HPF,'.-b',label='calculation')\n",
    "plt.semilogx(frequency_expt_HPF,amplitude_expt_HPF,'.-r',label='experimental') # semilog plot -- make the x-axis logarithmic\n",
    "plt.xlabel('frequency (Hz)',fontsize=15)\n",
    "plt.ylabel('Vout/Vin',fontsize=15)\n",
    "plt.grid()\n",
    "plt.title('Transfer function for a band-pass filter,\\n comparing experiment and theory',fontsize=12)\n",
    "plt.tight_layout() \n",
    "plt.legend(frameon=False,loc=2) \n",
    "# plt.savefig(\"LPF_Hfxn.png\",dpi=400)"
   ]
  },
  {
   "cell_type": "markdown",
   "metadata": {
    "collapsed": true
   },
   "source": [
    "Similar can be repeated for a low-pass filter."
   ]
  },
  {
   "cell_type": "code",
   "execution_count": 14,
   "metadata": {
    "collapsed": true
   },
   "outputs": [],
   "source": [
    "# in case comparison with simulation is desired:\n",
    "# user-modified area:\n",
    "filename= 'Design1.bod'\n",
    "\n",
    "# import data\n",
    "data_sim = np.genfromtxt(filename,skip_header=15)\n",
    "frequency_sim = data_sim[:,0]\n",
    "amplitude_dB_sim = data_sim[:,1]\n",
    "# amplitude = 10**(amplitude_dB/10)\n",
    "amplitude_sim = data_sim[:,2]\n",
    "phase_deg_sim = data_sim[:,3]"
   ]
  },
  {
   "cell_type": "code",
   "execution_count": null,
   "metadata": {
    "collapsed": true
   },
   "outputs": [],
   "source": []
  }
 ],
 "metadata": {
  "anaconda-cloud": {},
  "kernelspec": {
   "display_name": "Python 3",
   "language": "python",
   "name": "python3"
  },
  "language_info": {
   "codemirror_mode": {
    "name": "ipython",
    "version": 3
   },
   "file_extension": ".py",
   "mimetype": "text/x-python",
   "name": "python",
   "nbconvert_exporter": "python",
   "pygments_lexer": "ipython3",
   "version": "3.6.0"
  }
 },
 "nbformat": 4,
 "nbformat_minor": 0
}
